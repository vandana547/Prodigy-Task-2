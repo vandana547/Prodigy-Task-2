{
  "cells": [
    {
      "cell_type": "code",
      "execution_count": 4,
      "metadata": {
        "colab": {
          "base_uri": "https://localhost:8080/"
        },
        "id": "4KuoUiqqAzd0",
        "outputId": "ac139a24-4541-4e66-ff4d-21d1cc8d925e"
      },
      "outputs": [
        {
          "name": "stdout",
          "output_type": "stream",
          "text": [
            "Guess the Number Game!\n",
            "I'm thinking of a number between 1 and 100...\n",
            "Enter your guess: 78\n",
            "Too high! Try again.\n",
            "Enter your guess: 56\n",
            "Too low! Try again.\n",
            "Enter your guess: 67\n",
            "Too low! Try again.\n",
            "Enter your guess: 30\n",
            "Too low! Try again.\n",
            "Enter your guess: 45\n",
            "Too low! Try again.\n",
            "Enter your guess: 50\n",
            "Too low! Try again.\n",
            "Enter your guess: 70\n",
            "Too low! Try again.\n",
            "Enter your guess: 75\n",
            "Too high! Try again.\n",
            "Enter your guess: 72\n",
            "Too low! Try again.\n",
            "Enter your guess: 73\n",
            "\n",
            "Correct! The number was 73. You guessed it in 10 attempts.\n"
          ]
        }
      ],
      "source": [
        "import random\n",
        "\n",
        "# Generate a random number between 1 and 100\n",
        "secret_number = random.randint(1, 100)\n",
        "attempts = 0\n",
        "\n",
        "print(\"Guess the Number Game!\")\n",
        "print(\"I'm thinking of a number between 1 and 100...\")\n",
        "\n",
        "while True:\n",
        "    guess = int(input(\"Enter your guess: \"))\n",
        "    attempts += 1\n",
        "\n",
        "    if guess < secret_number:\n",
        "        print(\"Too low! Try again.\")\n",
        "    elif guess > secret_number:\n",
        "        print(\"Too high! Try again.\")\n",
        "    else:\n",
        "        print(f\"\\nCorrect! The number was {secret_number}. You guessed it in {attempts} attempts.\")\n",
        "        break"
      ]
    }
  ],
  "metadata": {
    "colab": {
      "name": "Welcome To Colab",
      "provenance": []
    },
    "kernelspec": {
      "display_name": "Python 3",
      "name": "python3"
    }
  },
  "nbformat": 4,
  "nbformat_minor": 0
}
